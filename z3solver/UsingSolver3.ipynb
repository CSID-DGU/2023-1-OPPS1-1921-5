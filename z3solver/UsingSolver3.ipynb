{
 "cells": [
  {
   "cell_type": "code",
   "execution_count": 6,
   "id": "1479eedc",
   "metadata": {},
   "outputs": [],
   "source": [
    "from z3 import *\n",
    "import pandas as pd"
   ]
  },
  {
   "cell_type": "markdown",
   "id": "a294d6ba",
   "metadata": {},
   "source": [
    "## 2017~2020 학년도 졸업요건 (_20) \n",
    "dict 자료형 (key,value) = (학수번호, 과목이름)"
   ]
  },
  {
   "cell_type": "code",
   "execution_count": 221,
   "id": "1d55e433",
   "metadata": {},
   "outputs": [],
   "source": [
    "# 계사 공소 어벤디 창공 자구 컴구 이산 종설1 종설2 시소프 개연1 개연2(~2022까지 들은 과목)\n",
    "major_subjects_2020 = {'CSE2025': '계산적사고법', 'CSE4074': '공개SW프로젝트', \n",
    "                    'CSE2016': '창의적공학설계', 'CSE2017': '자료구조', 'CSE2018': '컴퓨터구조',\n",
    "                    'CSE2026': '이산수학', 'CSE4066': '종합설계1', 'CSE4067': '종합설계2',\n",
    "                    'CSE2013': '시스템프로그래밍'}\n",
    "major_subjects_21 = {'CSE2025': '계산적사고법', 'CSE4074': '공개SW프로젝트', \n",
    "                    'CSE2028': '어드벤처디자인', 'CSE2017': '자료구조', 'CSE2018': '컴퓨터구조',\n",
    "                    'CSE2026': '이산수학', 'CSE4066': '종합설계1', 'CSE4067': '종합설계2',\n",
    "                    'CSE2013': '시스템프로그래밍'}\n",
    "major_subjects_research_20 = {'DES':'개별연구'}\n",
    "# 창공 -> 어벤디 OR로 해보기\n",
    "\n",
    "# basicEAS EAS1 EAS2 자명1 자명2 불인 기보작 커디 나삶나비\n",
    "# 나삶나비 -> 커디\n",
    "common_subjects_2020 = {'RGC1030': 'basicEAS', 'RGC1033':'EAS1', 'RGC1034':'EAS2', 'RGC0017':'자아와명상1',\n",
    "                      'RGC0018':'자아와명상2', 'RGC0003':'불교와인간', 'RGC0005':'기술보고서작성및발표',\n",
    "                      'RGC1074':'커리어디자인', 'RGC1001':'나의삶,나의비전'}\n",
    "common_subjects_leadership_20 = {'RGC1050':'소셜앙트레프레너십과리더십', 'RGC1051':'글로벌앙트레프레너십과리더십',\n",
    "                                 'RGC1052':'테크노앙트레프레너십과리더십'}\n",
    "\n",
    "#공경 공윤 기창특 기사 공법 지속가능한발전과인간\n",
    "gs_subjects_2020 = {'PRI4041':'공학경제', 'EGC4039':'공학윤리', 'EGC7026':'기술창조및특허',\n",
    "                  'PRI4040':'기술과사회', 'PRI4043':'공학법제', 'PRI4048':'지속가능한발전과인간'}\n",
    "gs_subjects_21 = {'PRI4041':'공학경제', 'EGC4039':'공학윤리', 'EGC7026':'기술창조및특허'}\n",
    "\n",
    "# 미적1 확통 공선대\n",
    "bsm_subjects_2020= {'PRI4001':'미적분학및연습1', 'PRI4023':'확률및통계학', 'PRI4024':'공학선형대수학'}\n",
    "# 물실1 화실1 생실1 물실2 화실2 생실2\n",
    "bsm_subjects_experiment_20 = {'PRI4002':'일반물리학및실험1', 'PRI4003':'일반화학및실험1', 'PRI4004':'일반생물학및실험1',\n",
    "                           'PRI4013':'일반물리학및실험2', 'PRI4014':'일반화학및실험2', 'PRI4015':'일반생물학및실험2'}\n",
    "# 미적2 공수1 이수 산수 수치해석및실습\n",
    "bsm_subjects_math_20 = {'PRI4012':'미적분학및연습2', 'PRI4025':'공학수학1', 'PRI4027':'이산수학', 'PRI4036':'수치해석및실습'}\n",
    "bsm_subjects_math_21 = {'PRI4012':'미적분학및연습2', 'PRI4025':'공학수학1', 'PRI4027':'이산수학', 'PRI4036':'수치해석및실습','PRI4051':'산업수학'}\n",
    "                                 \n",
    "#물리학개론 화학개론 생물학개론 지구환경과학\n",
    "bsm_subjects_science = {'PRI4029':'물리학개론', 'PRI4030':'화학개론','PRI4028':'생물학개론', 'PRI4033':'지구환경과학'}"
   ]
  },
  {
   "cell_type": "code",
   "execution_count": 195,
   "id": "814c3d1c",
   "metadata": {},
   "outputs": [],
   "source": [
    "def notTaking(subjects, completed_courses):\n",
    "    s = Solver()\n",
    "    bool_vars = {}\n",
    "    for i, subject in enumerate(subjects):\n",
    "        bool_vars[i] = Bool(subject)\n",
    "        if not subject in completed_courses:\n",
    "            s.add(bool_vars[i] == False)\n",
    "        else:\n",
    "            s.add(bool_vars[i] == True)\n",
    "    return s\n",
    "    #교양 필수 들은 리스트/안들은 리스트 나눌 수 있음 근데 반환할 때 한 리스트로 반환하는 게 좋아보임 "
   ]
  },
  {
   "cell_type": "code",
   "execution_count": 196,
   "id": "93dc306e",
   "metadata": {},
   "outputs": [],
   "source": [
    "def user_subject(dataset):\n",
    "    user_subject_list = []\n",
    "    for k, row in dataset.iterrows():\n",
    "        if row['년도'] <= 2022:\n",
    "            if row['학수강좌번호'].startswith('DES'):\n",
    "                user_subject_list.append('DES')\n",
    "            else:\n",
    "                user_subject_list.append(row['학수강좌번호'])\n",
    "        if row['년도'] == 2023:\n",
    "            if row['학수강좌번호'].startswith('DAI'):\n",
    "                user_subject_list.append('DAI')\n",
    "            else:\n",
    "                user_subject_list.append(row['학수강좌번호'])\n",
    "                # 특수 경우 : 개별연구 \n",
    "    return user_subject_list"
   ]
  },
  {
   "cell_type": "code",
   "execution_count": 222,
   "id": "c0e8dc59",
   "metadata": {},
   "outputs": [],
   "source": [
    "import re\n",
    "def check_subject(dataset, year):\n",
    "    \n",
    "    user_subject_list = user_subject(dataset)\n",
    "    if year<2020:\n",
    "        year=2020\n",
    "    print(\"이수하지 않은 전공\\n\", notTaking(globals()[f'major_subjects_{year}'], user_subject_list))    \n",
    "    print(\"이수하지 않은 공통교양\\n\", notTaking(globals()[f'common_subjects_{year}'], user_subject_list))\n",
    "    print(\"이수하지 않은 학문기초\\n\", notTaking(globals()[f'bsm_subjects_{year}'], user_subject_list))\n",
    "    print(\"이수하지 않은 기초소양\\n\", notTaking(globals()[f'gs_subjects_{year}'], user_subject_list))\n",
    "    \n"
   ]
  },
  {
   "cell_type": "code",
   "execution_count": 223,
   "id": "300aa942",
   "metadata": {},
   "outputs": [
    {
     "name": "stdout",
     "output_type": "stream",
     "text": [
      "이수하지 않은 전공\n",
      " [CSE2025 == True,\n",
      " CSE4074 == True,\n",
      " CSE2016 == False,\n",
      " CSE2017 == True,\n",
      " CSE2018 == True,\n",
      " CSE2026 == True,\n",
      " CSE4066 == True,\n",
      " CSE4067 == True,\n",
      " CSE2013 == True]\n",
      "이수하지 않은 공통교양\n",
      " [RGC1030 == False,\n",
      " RGC1033 == True,\n",
      " RGC1034 == True,\n",
      " RGC0017 == True,\n",
      " RGC0018 == True,\n",
      " RGC0003 == True,\n",
      " RGC0005 == True,\n",
      " RGC1074 == True,\n",
      " RGC1001 == False]\n",
      "이수하지 않은 학문기초\n",
      " [PRI4001 == True, PRI4023 == True, PRI4024 == True]\n",
      "이수하지 않은 기초소양\n",
      " [PRI4041 == False,\n",
      " EGC4039 == False,\n",
      " EGC7026 == True,\n",
      " PRI4040 == True,\n",
      " PRI4043 == False,\n",
      " PRI4048 == True]\n"
     ]
    }
   ],
   "source": [
    "df_add = check_subject(pd.read_excel(\"./samples/data0입학2018이수8학기.xlsx\"), 2018)"
   ]
  },
  {
   "cell_type": "code",
   "execution_count": 224,
   "id": "e325720f",
   "metadata": {},
   "outputs": [],
   "source": [
    "def make_conditions(dataset):\n",
    "    basic_list = user_subject(dataset)\n",
    "    s = Solver()\n",
    "    bool_vars = {}\n",
    "    for subject in basic_list:\n",
    "        bool_vars[subject] = Bool(subject)\n",
    "        s.add(bool_vars[subject] == True)\n",
    "    return s"
   ]
  },
  {
   "cell_type": "code",
   "execution_count": 225,
   "id": "99de096d",
   "metadata": {},
   "outputs": [
    {
     "data": {
      "text/html": [
       "[RGC0005 = True,\n",
       " RGC1033 = True,\n",
       " RGC0018 = True,\n",
       " RGC0003 = True,\n",
       " RGC1050 = True,\n",
       " RGC1034 = True,\n",
       " RGC1060 = True,\n",
       " RGC0017 = True,\n",
       " RGC1006 = True,\n",
       " RGC1074 = True,\n",
       " SSC2003 = True,\n",
       " EGC7026 = True,\n",
       " EGC2103 = True,\n",
       " GCR7001 = True,\n",
       " EGC7098 = True,\n",
       " GCR2003 = True,\n",
       " EGC3052 = True,\n",
       " EGC3050 = True,\n",
       " DEV1068 = True,\n",
       " EGC2110 = True,\n",
       " EGC3063 = True,\n",
       " CSE2025 = True,\n",
       " CSE4043 = True,\n",
       " CSE2026 = True,\n",
       " CSE4036 = True,\n",
       " CSE4074 = True,\n",
       " CSE2022 = True,\n",
       " CSE2028 = True,\n",
       " DES = True,\n",
       " DES = True,\n",
       " DES3659 = True,\n",
       " CSE2017 = True,\n",
       " CSE2018 = True,\n",
       " CSE2013 = True,\n",
       " CSE4066 = True,\n",
       " CSE4067 = True,\n",
       " PRI4001 = True,\n",
       " PRI4002 = True,\n",
       " PRI4023 = True,\n",
       " PRI4024 = True,\n",
       " PRI4036 = True,\n",
       " PRI4028 = True,\n",
       " PRI4033 = True,\n",
       " PRI4040 = True,\n",
       " PRI4048 = True]"
      ],
      "text/plain": [
       "[RGC0005 == True,\n",
       " RGC1033 == True,\n",
       " RGC0018 == True,\n",
       " RGC0003 == True,\n",
       " RGC1050 == True,\n",
       " RGC1034 == True,\n",
       " RGC1060 == True,\n",
       " RGC0017 == True,\n",
       " RGC1006 == True,\n",
       " RGC1074 == True,\n",
       " SSC2003 == True,\n",
       " EGC7026 == True,\n",
       " EGC2103 == True,\n",
       " GCR7001 == True,\n",
       " EGC7098 == True,\n",
       " GCR2003 == True,\n",
       " EGC3052 == True,\n",
       " EGC3050 == True,\n",
       " DEV1068 == True,\n",
       " EGC2110 == True,\n",
       " EGC3063 == True,\n",
       " CSE2025 == True,\n",
       " CSE4043 == True,\n",
       " CSE2026 == True,\n",
       " CSE4036 == True,\n",
       " CSE4074 == True,\n",
       " CSE2022 == True,\n",
       " CSE2028 == True,\n",
       " DES == True,\n",
       " DES == True,\n",
       " DES3659 == True,\n",
       " CSE2017 == True,\n",
       " CSE2018 == True,\n",
       " CSE2013 == True,\n",
       " CSE4066 == True,\n",
       " CSE4067 == True,\n",
       " PRI4001 == True,\n",
       " PRI4002 == True,\n",
       " PRI4023 == True,\n",
       " PRI4024 == True,\n",
       " PRI4036 == True,\n",
       " PRI4028 == True,\n",
       " PRI4033 == True,\n",
       " PRI4040 == True,\n",
       " PRI4048 == True]"
      ]
     },
     "execution_count": 225,
     "metadata": {},
     "output_type": "execute_result"
    }
   ],
   "source": [
    "make_conditions(pd.read_excel(\"./samples/data0입학2018이수8학기.xlsx\"))"
   ]
  },
  {
   "cell_type": "code",
   "execution_count": 233,
   "id": "5b9973bf",
   "metadata": {},
   "outputs": [],
   "source": [
    "def pop_condition(s, conditions):\n",
    "    # solver에 조건들을 추가\n",
    "    s.push()\n",
    "    s.add(conditions)\n",
    "    # 조건을 체크하고, 조건을 만족하지 않으면 마지막에 추가된 조건을 pop\n",
    "    if s.check() != sat:\n",
    "        s.pop()\n",
    "        print(conditions, \"pop!\", s)\n",
    "    else:\n",
    "        print(conditions, \"push~\", s)\n",
    "    return s"
   ]
  },
  {
   "cell_type": "code",
   "execution_count": null,
   "id": "770f216a",
   "metadata": {},
   "outputs": [
    {
     "ename": "",
     "evalue": "",
     "output_type": "error",
     "traceback": [
      "\u001b[1;31m'Python 3.10.11 64-bit (microsoft store)'(으)로 셀을 실행하려면 ipykernel 패키지가 필요합니다.\n",
      "\u001b[1;31m다음 명령어를 실행하여 Python 환경에 'ipykernel'을(를) 설치합니다. \n",
      "\u001b[1;31m 명령: 'c:/Users/eeheu/AppData/Local/Microsoft/WindowsApps/python3.10.exe -m pip install ipykernel -U --force-reinstall'"
     ]
    }
   ],
   "source": [
    "# 조건 리스트\n",
    "conditions = []\n",
    "\n",
    "# ... 졸업요건 딕셔너리를 참고하여 - 세부 제약조건을 생성한다\n",
    "\n",
    "# 전공 팔수 이수 과목 체크 리스트\n",
    "CheckMajor = []\n",
    "\n",
    "# CSE2016, CSE2017, CSE2018 중 적어도 하나 이상을 이수해야 한다.\n",
    "Or('CSE2016','CSE2017','CSE2018')\n",
    "\n",
    "Or(bool_vars['CSE2016'], bool_vars['CSE2017'], bool_vars['CSE2018'])\n",
    "Or(bool_vars['ASW4910'])\n",
    "And()\n",
    "# 학수번호 변경시에 Or 조건 추가 -> 적어도 하나 이상 이수\n",
    "# 알고리즘 : 만약 자료구조의 학수번호가 바뀌었다\n",
    "\n",
    "\n",
    "conditions.append()"
   ]
  },
  {
   "cell_type": "code",
   "execution_count": null,
   "id": "d07dc7ed",
   "metadata": {},
   "outputs": [],
   "source": [
    "pop_condition(s, conditions)"
   ]
  },
  {
   "cell_type": "code",
   "execution_count": 235,
   "id": "94bca7ed",
   "metadata": {},
   "outputs": [
    {
     "name": "stdout",
     "output_type": "stream",
     "text": [
      "[Or(CSE2016, CSE2017, CSE2018)] push~\n"
     ]
    }
   ],
   "source": [
    "pop_condition(s, conditions)"
   ]
  },
  {
   "cell_type": "code",
   "execution_count": 236,
   "id": "0fada56c",
   "metadata": {},
   "outputs": [
    {
     "data": {
      "text/html": [
       "[CSE2018 = True]"
      ],
      "text/plain": [
       "[CSE2018 = True]"
      ]
     },
     "execution_count": 236,
     "metadata": {},
     "output_type": "execute_result"
    }
   ],
   "source": [
    "s.check()\n",
    "s.model()"
   ]
  },
  {
   "cell_type": "code",
   "execution_count": 183,
   "id": "4ea33d2f",
   "metadata": {},
   "outputs": [
    {
     "data": {
      "text/html": [
       "[]"
      ],
      "text/plain": [
       "[]"
      ]
     },
     "execution_count": 183,
     "metadata": {},
     "output_type": "execute_result"
    }
   ],
   "source": [
    "s.check()\n",
    "s.model()"
   ]
  },
  {
   "cell_type": "code",
   "execution_count": 186,
   "id": "593a09a2",
   "metadata": {},
   "outputs": [],
   "source": [
    "s = Solver()"
   ]
  },
  {
   "cell_type": "code",
   "execution_count": 188,
   "id": "256dffb5",
   "metadata": {},
   "outputs": [],
   "source": [
    "s.reset()"
   ]
  },
  {
   "cell_type": "code",
   "execution_count": 189,
   "id": "3de8d17f",
   "metadata": {},
   "outputs": [
    {
     "ename": "KeyError",
     "evalue": "'CSE2011'",
     "output_type": "error",
     "traceback": [
      "\u001b[1;31m---------------------------------------------------------------------------\u001b[0m",
      "\u001b[1;31mKeyError\u001b[0m                                  Traceback (most recent call last)",
      "\u001b[1;32m~\\AppData\\Local\\Temp\\ipykernel_2060\\1735679443.py\u001b[0m in \u001b[0;36m<module>\u001b[1;34m\u001b[0m\n\u001b[1;32m----> 1\u001b[1;33m \u001b[0mconditions\u001b[0m\u001b[1;33m.\u001b[0m\u001b[0mappend\u001b[0m\u001b[1;33m(\u001b[0m\u001b[0mOr\u001b[0m\u001b[1;33m(\u001b[0m\u001b[0mbool_vars\u001b[0m\u001b[1;33m[\u001b[0m\u001b[1;34m'CSE2011'\u001b[0m\u001b[1;33m]\u001b[0m\u001b[1;33m)\u001b[0m\u001b[1;33m)\u001b[0m\u001b[1;33m\u001b[0m\u001b[1;33m\u001b[0m\u001b[0m\n\u001b[0m",
      "\u001b[1;31mKeyError\u001b[0m: 'CSE2011'"
     ]
    }
   ],
   "source": [
    "conditions.append(Or(bool_vars['CSE2011']))"
   ]
  },
  {
   "cell_type": "code",
   "execution_count": null,
   "id": "40b9b832",
   "metadata": {},
   "outputs": [],
   "source": []
  }
 ],
 "metadata": {
  "kernelspec": {
   "display_name": "Python 3.10.11 64-bit (microsoft store)",
   "language": "python",
   "name": "python3"
  },
  "language_info": {
   "codemirror_mode": {
    "name": "ipython",
    "version": 3
   },
   "file_extension": ".py",
   "mimetype": "text/x-python",
   "name": "python",
   "nbconvert_exporter": "python",
   "pygments_lexer": "ipython3",
   "version": "3.10.11"
  },
  "vscode": {
   "interpreter": {
    "hash": "debe3a58807cb0ebe31b70ac7ca585f286f5bf9d60d6532914f056887ab214da"
   }
  }
 },
 "nbformat": 4,
 "nbformat_minor": 5
}
