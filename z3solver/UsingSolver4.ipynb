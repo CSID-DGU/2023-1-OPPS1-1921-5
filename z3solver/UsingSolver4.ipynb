{
 "cells": [
  {
   "cell_type": "code",
   "execution_count": 1,
   "id": "1479eedc",
   "metadata": {},
   "outputs": [],
   "source": [
    "from z3 import *\n",
    "import pandas as pd"
   ]
  },
  {
   "cell_type": "markdown",
   "id": "a294d6ba",
   "metadata": {},
   "source": [
    "## 2017~2020 학년도 졸업요건 (_20) \n",
    "dict 자료형 (key,value) = (학수번호, 과목이름)"
   ]
  },
  {
   "cell_type": "code",
   "execution_count": 2,
   "id": "1d55e433",
   "metadata": {},
   "outputs": [],
   "source": [
    "# 계사 공소 어벤디 창공 자구 컴구 이산 종설1 종설2 시소프 개연1 개연2(~2022까지 들은 과목)\n",
    "major_subjects_2020 = {'CSE2025': '계산적사고법', 'CSE4074': '공개SW프로젝트', \n",
    "                    'CSE2016': '창의적공학설계', 'CSE2017': '자료구조', 'CSE2018': '컴퓨터구조',\n",
    "                    'CSE2026': '이산수학', 'CSE4066': '종합설계1', 'CSE4067': '종합설계2',\n",
    "                    'CSE2013': '시스템프로그래밍'}\n",
    "major_subjects_21 = {'CSE2025': '계산적사고법', 'CSE4074': '공개SW프로젝트', \n",
    "                    'CSE2028': '어드벤처디자인', 'CSE2017': '자료구조', 'CSE2018': '컴퓨터구조',\n",
    "                    'CSE2026': '이산수학', 'CSE4066': '종합설계1', 'CSE4067': '종합설계2',\n",
    "                    'CSE2013': '시스템프로그래밍'}\n",
    "major_subjects_research_20 = {'DES':'개별연구'}\n",
    "# 창공 -> 어벤디 OR로 해보기\n",
    "\n",
    "# basicEAS EAS1 EAS2 자명1 자명2 불인 기보작 커디 나삶나비\n",
    "# 나삶나비 -> 커디\n",
    "common_subjects_2020 = {'RGC1030': 'basicEAS', 'RGC1033':'EAS1', 'RGC1034':'EAS2', 'RGC0017':'자아와명상1',\n",
    "                      'RGC0018':'자아와명상2', 'RGC0003':'불교와인간', 'RGC0005':'기술보고서작성및발표',\n",
    "                      'RGC1074':'커리어디자인', 'RGC1001':'나의삶,나의비전'}\n",
    "common_subjects_leadership_20 = {'RGC1050':'소셜앙트레프레너십과리더십', 'RGC1051':'글로벌앙트레프레너십과리더십',\n",
    "                                 'RGC1052':'테크노앙트레프레너십과리더십'}\n",
    "\n",
    "#공경 공윤 기창특 기사 공법 지속가능한발전과인간\n",
    "gs_subjects_2020 = {'PRI4041':'공학경제', 'EGC4039':'공학윤리', 'EGC7026':'기술창조및특허',\n",
    "                  'PRI4040':'기술과사회', 'PRI4043':'공학법제', 'PRI4048':'지속가능한발전과인간'}\n",
    "gs_subjects_21 = {'PRI4041':'공학경제', 'EGC4039':'공학윤리', 'EGC7026':'기술창조및특허'}\n",
    "\n",
    "# 미적1 확통 공선대\n",
    "bsm_subjects_2020= {'PRI4001':'미적분학및연습1', 'PRI4023':'확률및통계학', 'PRI4024':'공학선형대수학'}\n",
    "# 물실1 화실1 생실1 물실2 화실2 생실2\n",
    "bsm_subjects_experiment_20 = {'PRI4002':'일반물리학및실험1', 'PRI4003':'일반화학및실험1', 'PRI4004':'일반생물학및실험1',\n",
    "                           'PRI4013':'일반물리학및실험2', 'PRI4014':'일반화학및실험2', 'PRI4015':'일반생물학및실험2'}\n",
    "# 미적2 공수1 이수 산수 수치해석및실습\n",
    "bsm_subjects_math_20 = {'PRI4012':'미적분학및연습2', 'PRI4025':'공학수학1', 'PRI4027':'이산수학', 'PRI4036':'수치해석및실습'}\n",
    "bsm_subjects_math_21 = {'PRI4012':'미적분학및연습2', 'PRI4025':'공학수학1', 'PRI4027':'이산수학', 'PRI4036':'수치해석및실습','PRI4051':'산업수학'}\n",
    "                                 \n",
    "#물리학개론 화학개론 생물학개론 지구환경과학\n",
    "bsm_subjects_science = {'PRI4029':'물리학개론', 'PRI4030':'화학개론','PRI4028':'생물학개론', 'PRI4033':'지구환경과학'}"
   ]
  },
  {
   "cell_type": "markdown",
   "id": "16b48b33",
   "metadata": {},
   "source": [
    "각 졸업요건 _20, _21을 비교하고, value값은 같은데 키값이 다르면 키 값 추가하는 그런 함수 필요 (학수번호 변경 대비)"
   ]
  },
  {
   "cell_type": "code",
   "execution_count": 3,
   "id": "272254d2",
   "metadata": {},
   "outputs": [
    {
     "ename": "SyntaxError",
     "evalue": "invalid syntax (652484862.py, line 3)",
     "output_type": "error",
     "traceback": [
      "\u001b[1;36m  File \u001b[1;32m\"C:\\Users\\eeheu\\AppData\\Local\\Temp\\ipykernel_1088\\652484862.py\"\u001b[1;36m, line \u001b[1;32m3\u001b[0m\n\u001b[1;33m    {'CSE2016': '창의적공학설계'->'CSE2028': '어드벤처디자인' }\u001b[0m\n\u001b[1;37m                         ^\u001b[0m\n\u001b[1;31mSyntaxError\u001b[0m\u001b[1;31m:\u001b[0m invalid syntax\n"
     ]
    }
   ],
   "source": [
    "# 변경된 학수번호\n",
    "# 학수번호, 과목 명 모두 바뀜\n",
    "{'CSE2016': '창의적공학설계'->'CSE2028': '어드벤처디자인' }\n",
    "{'RGC1001':'나의삶,나의비전' -> 'RGC1074':'커리어디자인'}\n",
    "#학수번호만 바뀜\n",
    "{'RGC1033':'EAS1' -> 'RGC1080':'EAS1'}\n",
    "{'RGC1034':'EAS2' -> 'RGC1081':'EAS2'}\n"
   ]
  },
  {
   "cell_type": "code",
   "execution_count": 4,
   "id": "814c3d1c",
   "metadata": {},
   "outputs": [],
   "source": [
    "def notTaking(subjects, completed_courses):\n",
    "    s = Solver()\n",
    "    bool_vars = {}\n",
    "    for i, subject in enumerate(subjects):\n",
    "        bool_vars[i] = Bool(subject)\n",
    "        if not subject in completed_courses:\n",
    "            s.add(bool_vars[i] == False)\n",
    "#         else:\n",
    "#             s.add(bool_vars[i] == True)\n",
    "    return s\n",
    "    #교양 필수 들은 리스트/안들은 리스트 나눌 수 있음 근데 반환할 때 한 리스트로 반환하는 게 좋아보임 "
   ]
  },
  {
   "cell_type": "code",
   "execution_count": 5,
   "id": "93dc306e",
   "metadata": {},
   "outputs": [],
   "source": [
    "def user_subject(dataset):\n",
    "    user_subject_list = []\n",
    "    for k, row in dataset.iterrows():\n",
    "        if row['년도'] <= 2022:\n",
    "            if row['학수강좌번호'].startswith('DES'):\n",
    "                user_subject_list.append('DES')\n",
    "            else:\n",
    "                user_subject_list.append(row['학수강좌번호'])\n",
    "        if row['년도'] == 2023:\n",
    "            if row['학수강좌번호'].startswith('DAI'):\n",
    "                user_subject_list.append('DAI')\n",
    "            else:\n",
    "                user_subject_list.append(row['학수강좌번호'])\n",
    "                # 특수 경우 : 개별연구 \n",
    "    return user_subject_list"
   ]
  },
  {
   "cell_type": "code",
   "execution_count": 6,
   "id": "33f91751",
   "metadata": {},
   "outputs": [],
   "source": [
    "def print_check_subject(subjects_name, user_subject_list):\n",
    "    if is_all_true(notTaking(subjects_name, user_subject_list)):\n",
    "        print(\"충족됩니다.\")\n",
    "    else:\n",
    "        print(\"이수하지 않은 과목이 있습니다.\")   \n",
    "        print(notTaking(subjects_name, user_subject_list))    "
   ]
  },
  {
   "cell_type": "code",
   "execution_count": 7,
   "id": "c0e8dc59",
   "metadata": {},
   "outputs": [],
   "source": [
    "def check_subject(dataset, year):\n",
    "    \n",
    "    user_subject_list = user_subject(dataset)\n",
    "    if year<2020:\n",
    "        year=2020\n",
    "    \n",
    "    print_check_subject(globals()[f'major_subjects_{year}'], user_subject_list)\n",
    "    print_check_subject(globals()[f'common_subjects_{year}'], user_subject_list)\n",
    "    print_check_subject(globals()[f'bsm_subjects_{year}'], user_subject_list)\n",
    "    print_check_subject(globals()[f'gs_subjects_{year}'], user_subject_list)\n"
   ]
  },
  {
   "cell_type": "code",
   "execution_count": null,
   "id": "c7dd52b9",
   "metadata": {},
   "outputs": [],
   "source": []
  },
  {
   "cell_type": "code",
   "execution_count": 8,
   "id": "e325720f",
   "metadata": {},
   "outputs": [],
   "source": [
    "def make_conditions(dataset):\n",
    "    basic_list = user_subject(dataset)\n",
    "    s = Solver()\n",
    "    bool_vars = {}\n",
    "    for subject in basic_list:\n",
    "        bool_vars[subject] = Bool(subject)\n",
    "        s.add(bool_vars[subject] == True)\n",
    "    return s"
   ]
  },
  {
   "cell_type": "code",
   "execution_count": 9,
   "id": "bf706156",
   "metadata": {},
   "outputs": [
    {
     "data": {
      "text/html": [
       "[RGC0005 = True,\n",
       " RGC1033 = True,\n",
       " RGC0018 = True,\n",
       " RGC0003 = True,\n",
       " RGC1050 = True,\n",
       " RGC1034 = True,\n",
       " RGC1060 = True,\n",
       " RGC0017 = True,\n",
       " RGC1006 = True,\n",
       " RGC1074 = True,\n",
       " SSC2003 = True,\n",
       " EGC7026 = True,\n",
       " EGC2103 = True,\n",
       " GCR7001 = True,\n",
       " EGC7098 = True,\n",
       " GCR2003 = True,\n",
       " EGC3052 = True,\n",
       " EGC3050 = True,\n",
       " DEV1068 = True,\n",
       " EGC2110 = True,\n",
       " EGC3063 = True,\n",
       " CSE2025 = True,\n",
       " CSE4043 = True,\n",
       " CSE2026 = True,\n",
       " CSE4036 = True,\n",
       " CSE4074 = True,\n",
       " CSE2022 = True,\n",
       " CSE2028 = True,\n",
       " DES = True,\n",
       " DES = True,\n",
       " DES3659 = True,\n",
       " CSE2017 = True,\n",
       " CSE2018 = True,\n",
       " CSE2013 = True,\n",
       " CSE4066 = True,\n",
       " CSE4067 = True,\n",
       " PRI4001 = True,\n",
       " PRI4002 = True,\n",
       " PRI4023 = True,\n",
       " PRI4024 = True,\n",
       " PRI4036 = True,\n",
       " PRI4028 = True,\n",
       " PRI4033 = True,\n",
       " PRI4040 = True,\n",
       " PRI4048 = True]"
      ],
      "text/plain": [
       "[RGC0005 == True,\n",
       " RGC1033 == True,\n",
       " RGC0018 == True,\n",
       " RGC0003 == True,\n",
       " RGC1050 == True,\n",
       " RGC1034 == True,\n",
       " RGC1060 == True,\n",
       " RGC0017 == True,\n",
       " RGC1006 == True,\n",
       " RGC1074 == True,\n",
       " SSC2003 == True,\n",
       " EGC7026 == True,\n",
       " EGC2103 == True,\n",
       " GCR7001 == True,\n",
       " EGC7098 == True,\n",
       " GCR2003 == True,\n",
       " EGC3052 == True,\n",
       " EGC3050 == True,\n",
       " DEV1068 == True,\n",
       " EGC2110 == True,\n",
       " EGC3063 == True,\n",
       " CSE2025 == True,\n",
       " CSE4043 == True,\n",
       " CSE2026 == True,\n",
       " CSE4036 == True,\n",
       " CSE4074 == True,\n",
       " CSE2022 == True,\n",
       " CSE2028 == True,\n",
       " DES == True,\n",
       " DES == True,\n",
       " DES3659 == True,\n",
       " CSE2017 == True,\n",
       " CSE2018 == True,\n",
       " CSE2013 == True,\n",
       " CSE4066 == True,\n",
       " CSE4067 == True,\n",
       " PRI4001 == True,\n",
       " PRI4002 == True,\n",
       " PRI4023 == True,\n",
       " PRI4024 == True,\n",
       " PRI4036 == True,\n",
       " PRI4028 == True,\n",
       " PRI4033 == True,\n",
       " PRI4040 == True,\n",
       " PRI4048 == True]"
      ]
     },
     "execution_count": 9,
     "metadata": {},
     "output_type": "execute_result"
    }
   ],
   "source": [
    "s = make_conditions(pd.read_excel(\"./samples/data0입학2018이수8학기.xlsx\"))\n",
    "s"
   ]
  },
  {
   "cell_type": "code",
   "execution_count": 10,
   "id": "5b9973bf",
   "metadata": {},
   "outputs": [],
   "source": [
    "def pop_condition(s, conditions):\n",
    "    # solver에 조건들을 추가\n",
    "    s.push()\n",
    "    s.add(conditions)\n",
    "    # 조건을 체크하고, 조건을 만족하지 않으면 마지막에 추가된 조건을 pop\n",
    "    if s.check() != sat:\n",
    "        li.add(conditions) \n",
    "        # 충족 못한 조건 리스트 안에 쏙\n",
    "        s.pop()\n",
    "        print(conditions, \"pop!\", s)\n",
    "    else:\n",
    "        print(conditions, \"push~\", s)\n",
    "    return s"
   ]
  },
  {
   "cell_type": "code",
   "execution_count": 11,
   "id": "aeab5496",
   "metadata": {},
   "outputs": [],
   "source": [
    "def is_all_true(s):\n",
    "    if s.check() == unsat:\n",
    "        print(\"All variables cannot be satisfied.\")\n",
    "        return False\n",
    "    model = s.model()\n",
    "    for d in model.decls():\n",
    "        if not model[d]:\n",
    "            return False\n",
    "    return True"
   ]
  },
  {
   "cell_type": "code",
   "execution_count": 12,
   "id": "0fdd3680",
   "metadata": {},
   "outputs": [
    {
     "ename": "Z3Exception",
     "evalue": "b'Sort mismatch at argument #1 for function (declare-fun or (Bool Bool) Bool) supplied sort is String'",
     "output_type": "error",
     "traceback": [
      "\u001b[1;31m---------------------------------------------------------------------------\u001b[0m",
      "\u001b[1;31mZ3Exception\u001b[0m                               Traceback (most recent call last)",
      "\u001b[1;32m~\\AppData\\Local\\Temp\\ipykernel_1088\\4069148276.py\u001b[0m in \u001b[0;36m<module>\u001b[1;34m\u001b[0m\n\u001b[0;32m     15\u001b[0m \u001b[1;31m# CSE2016_or_CSE2017_or_CSE2018 = z3.Or(CSE2016, CSE2017, CSE2018)\u001b[0m\u001b[1;33m\u001b[0m\u001b[1;33m\u001b[0m\u001b[0m\n\u001b[0;32m     16\u001b[0m \u001b[1;31m# conditions.append(CSE2016_or_CSE2017_or_CSE2018)\u001b[0m\u001b[1;33m\u001b[0m\u001b[1;33m\u001b[0m\u001b[0m\n\u001b[1;32m---> 17\u001b[1;33m \u001b[0mconditions\u001b[0m\u001b[1;33m.\u001b[0m\u001b[0mappend\u001b[0m\u001b[1;33m(\u001b[0m\u001b[0mz3\u001b[0m\u001b[1;33m.\u001b[0m\u001b[0mOr\u001b[0m\u001b[1;33m(\u001b[0m\u001b[1;34m'CSE2016'\u001b[0m\u001b[1;33m)\u001b[0m\u001b[1;33m)\u001b[0m\u001b[1;33m\u001b[0m\u001b[1;33m\u001b[0m\u001b[0m\n\u001b[0m\u001b[0;32m     18\u001b[0m \u001b[1;31m# bool_vars['CSE2016'] = z3.Bool('CSE2016')\u001b[0m\u001b[1;33m\u001b[0m\u001b[1;33m\u001b[0m\u001b[0m\n\u001b[0;32m     19\u001b[0m \u001b[1;31m# bool_vars['CSE2017'] = z3.Bool('CSE2017')\u001b[0m\u001b[1;33m\u001b[0m\u001b[1;33m\u001b[0m\u001b[0m\n",
      "\u001b[1;32m~\\anaconda3\\lib\\site-packages\\z3\\z3.py\u001b[0m in \u001b[0;36mOr\u001b[1;34m(*args)\u001b[0m\n\u001b[0;32m   1910\u001b[0m         \u001b[0margs\u001b[0m \u001b[1;33m=\u001b[0m \u001b[0m_coerce_expr_list\u001b[0m\u001b[1;33m(\u001b[0m\u001b[0margs\u001b[0m\u001b[1;33m,\u001b[0m \u001b[0mctx\u001b[0m\u001b[1;33m)\u001b[0m\u001b[1;33m\u001b[0m\u001b[1;33m\u001b[0m\u001b[0m\n\u001b[0;32m   1911\u001b[0m         \u001b[0m_args\u001b[0m\u001b[1;33m,\u001b[0m \u001b[0msz\u001b[0m \u001b[1;33m=\u001b[0m \u001b[0m_to_ast_array\u001b[0m\u001b[1;33m(\u001b[0m\u001b[0margs\u001b[0m\u001b[1;33m)\u001b[0m\u001b[1;33m\u001b[0m\u001b[1;33m\u001b[0m\u001b[0m\n\u001b[1;32m-> 1912\u001b[1;33m         \u001b[1;32mreturn\u001b[0m \u001b[0mBoolRef\u001b[0m\u001b[1;33m(\u001b[0m\u001b[0mZ3_mk_or\u001b[0m\u001b[1;33m(\u001b[0m\u001b[0mctx\u001b[0m\u001b[1;33m.\u001b[0m\u001b[0mref\u001b[0m\u001b[1;33m(\u001b[0m\u001b[1;33m)\u001b[0m\u001b[1;33m,\u001b[0m \u001b[0msz\u001b[0m\u001b[1;33m,\u001b[0m \u001b[0m_args\u001b[0m\u001b[1;33m)\u001b[0m\u001b[1;33m,\u001b[0m \u001b[0mctx\u001b[0m\u001b[1;33m)\u001b[0m\u001b[1;33m\u001b[0m\u001b[1;33m\u001b[0m\u001b[0m\n\u001b[0m\u001b[0;32m   1913\u001b[0m \u001b[1;33m\u001b[0m\u001b[0m\n\u001b[0;32m   1914\u001b[0m \u001b[1;31m#########################################\u001b[0m\u001b[1;33m\u001b[0m\u001b[1;33m\u001b[0m\u001b[0m\n",
      "\u001b[1;32m~\\anaconda3\\lib\\site-packages\\z3\\z3core.py\u001b[0m in \u001b[0;36mZ3_mk_or\u001b[1;34m(a0, a1, a2, _elems)\u001b[0m\n\u001b[0;32m   1842\u001b[0m \u001b[1;32mdef\u001b[0m \u001b[0mZ3_mk_or\u001b[0m\u001b[1;33m(\u001b[0m\u001b[0ma0\u001b[0m\u001b[1;33m,\u001b[0m \u001b[0ma1\u001b[0m\u001b[1;33m,\u001b[0m \u001b[0ma2\u001b[0m\u001b[1;33m,\u001b[0m \u001b[0m_elems\u001b[0m\u001b[1;33m=\u001b[0m\u001b[0mElementaries\u001b[0m\u001b[1;33m(\u001b[0m\u001b[0m_lib\u001b[0m\u001b[1;33m.\u001b[0m\u001b[0mZ3_mk_or\u001b[0m\u001b[1;33m)\u001b[0m\u001b[1;33m)\u001b[0m\u001b[1;33m:\u001b[0m\u001b[1;33m\u001b[0m\u001b[1;33m\u001b[0m\u001b[0m\n\u001b[0;32m   1843\u001b[0m   \u001b[0mr\u001b[0m \u001b[1;33m=\u001b[0m \u001b[0m_elems\u001b[0m\u001b[1;33m.\u001b[0m\u001b[0mf\u001b[0m\u001b[1;33m(\u001b[0m\u001b[0ma0\u001b[0m\u001b[1;33m,\u001b[0m \u001b[0ma1\u001b[0m\u001b[1;33m,\u001b[0m \u001b[0ma2\u001b[0m\u001b[1;33m)\u001b[0m\u001b[1;33m\u001b[0m\u001b[1;33m\u001b[0m\u001b[0m\n\u001b[1;32m-> 1844\u001b[1;33m   \u001b[0m_elems\u001b[0m\u001b[1;33m.\u001b[0m\u001b[0mCheck\u001b[0m\u001b[1;33m(\u001b[0m\u001b[0ma0\u001b[0m\u001b[1;33m)\u001b[0m\u001b[1;33m\u001b[0m\u001b[1;33m\u001b[0m\u001b[0m\n\u001b[0m\u001b[0;32m   1845\u001b[0m   \u001b[1;32mreturn\u001b[0m \u001b[0mr\u001b[0m\u001b[1;33m\u001b[0m\u001b[1;33m\u001b[0m\u001b[0m\n\u001b[0;32m   1846\u001b[0m \u001b[1;33m\u001b[0m\u001b[0m\n",
      "\u001b[1;32m~\\anaconda3\\lib\\site-packages\\z3\\z3core.py\u001b[0m in \u001b[0;36mCheck\u001b[1;34m(self, ctx)\u001b[0m\n\u001b[0;32m   1480\u001b[0m     \u001b[0merr\u001b[0m \u001b[1;33m=\u001b[0m \u001b[0mself\u001b[0m\u001b[1;33m.\u001b[0m\u001b[0mget_error_code\u001b[0m\u001b[1;33m(\u001b[0m\u001b[0mctx\u001b[0m\u001b[1;33m)\u001b[0m\u001b[1;33m\u001b[0m\u001b[1;33m\u001b[0m\u001b[0m\n\u001b[0;32m   1481\u001b[0m     \u001b[1;32mif\u001b[0m \u001b[0merr\u001b[0m \u001b[1;33m!=\u001b[0m \u001b[0mself\u001b[0m\u001b[1;33m.\u001b[0m\u001b[0mOK\u001b[0m\u001b[1;33m:\u001b[0m\u001b[1;33m\u001b[0m\u001b[1;33m\u001b[0m\u001b[0m\n\u001b[1;32m-> 1482\u001b[1;33m         \u001b[1;32mraise\u001b[0m \u001b[0mself\u001b[0m\u001b[1;33m.\u001b[0m\u001b[0mException\u001b[0m\u001b[1;33m(\u001b[0m\u001b[0mself\u001b[0m\u001b[1;33m.\u001b[0m\u001b[0mget_error_message\u001b[0m\u001b[1;33m(\u001b[0m\u001b[0mctx\u001b[0m\u001b[1;33m,\u001b[0m \u001b[0merr\u001b[0m\u001b[1;33m)\u001b[0m\u001b[1;33m)\u001b[0m\u001b[1;33m\u001b[0m\u001b[1;33m\u001b[0m\u001b[0m\n\u001b[0m\u001b[0;32m   1483\u001b[0m \u001b[1;33m\u001b[0m\u001b[0m\n\u001b[0;32m   1484\u001b[0m \u001b[1;32mdef\u001b[0m \u001b[0mZ3_set_error_handler\u001b[0m\u001b[1;33m(\u001b[0m\u001b[0mctx\u001b[0m\u001b[1;33m,\u001b[0m \u001b[0mhndlr\u001b[0m\u001b[1;33m,\u001b[0m \u001b[0m_elems\u001b[0m\u001b[1;33m=\u001b[0m\u001b[0mElementaries\u001b[0m\u001b[1;33m(\u001b[0m\u001b[0m_lib\u001b[0m\u001b[1;33m.\u001b[0m\u001b[0mZ3_set_error_handler\u001b[0m\u001b[1;33m)\u001b[0m\u001b[1;33m)\u001b[0m\u001b[1;33m:\u001b[0m\u001b[1;33m\u001b[0m\u001b[1;33m\u001b[0m\u001b[0m\n",
      "\u001b[1;31mZ3Exception\u001b[0m: b'Sort mismatch at argument #1 for function (declare-fun or (Bool Bool) Bool) supplied sort is String'"
     ]
    }
   ],
   "source": [
    "# 조건 리스트\n",
    "conditions = []\n",
    "# 조건들 \n",
    "# 전공 조건 리스트\n",
    "CheckMajor = []\n",
    "bool_vars = {}\n",
    "# CSE2016, CSE2017, CSE2018 중 적어도 하나 이상을 이수해야 한다.\n",
    "# CSE2016_or_CSE2017_or_CSE2018 = z3.Or(CSE2016, CSE2017, CSE2018)\n",
    "# conditions.append(CSE2016_or_CSE2017_or_CSE2018)\n",
    "conditions.append(z3.Bool('CSE2016'))\n",
    "bool_vars['CSE2016'] = z3.Bool('CSE2016')\n",
    "bool_vars['CSE2017'] = z3.Bool('CSE2017')\n",
    "bool_vars['CSE2018'] = z3.Bool('CSE2018')\n",
    "conditions.append(Or(bool_vars['CSE2016'], bool_vars['CSE2017'], bool_vars['CSE2018']))\n",
    "\n"
   ]
  },
  {
   "cell_type": "code",
   "execution_count": 13,
   "id": "300aa942",
   "metadata": {},
   "outputs": [
    {
     "name": "stdout",
     "output_type": "stream",
     "text": [
      "이수하지 않은 과목이 있습니다.\n",
      "[CSE2016 == False]\n",
      "이수하지 않은 과목이 있습니다.\n",
      "[RGC1030 == False, RGC1001 == False]\n",
      "충족됩니다.\n",
      "이수하지 않은 과목이 있습니다.\n",
      "[PRI4041 == False, EGC4039 == False, PRI4043 == False]\n"
     ]
    }
   ],
   "source": [
    "df_add = check_subject(pd.read_excel(\"./samples/data0입학2018이수8학기.xlsx\"), 2018)"
   ]
  },
  {
   "cell_type": "code",
   "execution_count": 14,
   "id": "b5f55bba",
   "metadata": {},
   "outputs": [
    {
     "name": "stdout",
     "output_type": "stream",
     "text": [
      "[] push~ [RGC0005 == True,\n",
      " RGC1033 == True,\n",
      " RGC0018 == True,\n",
      " RGC0003 == True,\n",
      " RGC1050 == True,\n",
      " RGC1034 == True,\n",
      " RGC1060 == True,\n",
      " RGC0017 == True,\n",
      " RGC1006 == True,\n",
      " RGC1074 == True,\n",
      " SSC2003 == True,\n",
      " EGC7026 == True,\n",
      " EGC2103 == True,\n",
      " GCR7001 == True,\n",
      " EGC7098 == True,\n",
      " GCR2003 == True,\n",
      " EGC3052 == True,\n",
      " EGC3050 == True,\n",
      " DEV1068 == True,\n",
      " EGC2110 == True,\n",
      " EGC3063 == True,\n",
      " CSE2025 == True,\n",
      " CSE4043 == True,\n",
      " CSE2026 == True,\n",
      " CSE4036 == True,\n",
      " CSE4074 == True,\n",
      " CSE2022 == True,\n",
      " CSE2028 == True,\n",
      " DES == True,\n",
      " DES == True,\n",
      " DES3659 == True,\n",
      " CSE2017 == True,\n",
      " CSE2018 == True,\n",
      " CSE2013 == True,\n",
      " CSE4066 == True,\n",
      " CSE4067 == True,\n",
      " PRI4001 == True,\n",
      " PRI4002 == True,\n",
      " PRI4023 == True,\n",
      " PRI4024 == True,\n",
      " PRI4036 == True,\n",
      " PRI4028 == True,\n",
      " PRI4033 == True,\n",
      " PRI4040 == True,\n",
      " PRI4048 == True]\n"
     ]
    },
    {
     "data": {
      "text/html": [
       "[RGC0005 = True,\n",
       " RGC1033 = True,\n",
       " RGC0018 = True,\n",
       " RGC0003 = True,\n",
       " RGC1050 = True,\n",
       " RGC1034 = True,\n",
       " RGC1060 = True,\n",
       " RGC0017 = True,\n",
       " RGC1006 = True,\n",
       " RGC1074 = True,\n",
       " SSC2003 = True,\n",
       " EGC7026 = True,\n",
       " EGC2103 = True,\n",
       " GCR7001 = True,\n",
       " EGC7098 = True,\n",
       " GCR2003 = True,\n",
       " EGC3052 = True,\n",
       " EGC3050 = True,\n",
       " DEV1068 = True,\n",
       " EGC2110 = True,\n",
       " EGC3063 = True,\n",
       " CSE2025 = True,\n",
       " CSE4043 = True,\n",
       " CSE2026 = True,\n",
       " CSE4036 = True,\n",
       " CSE4074 = True,\n",
       " CSE2022 = True,\n",
       " CSE2028 = True,\n",
       " DES = True,\n",
       " DES = True,\n",
       " DES3659 = True,\n",
       " CSE2017 = True,\n",
       " CSE2018 = True,\n",
       " CSE2013 = True,\n",
       " CSE4066 = True,\n",
       " CSE4067 = True,\n",
       " PRI4001 = True,\n",
       " PRI4002 = True,\n",
       " PRI4023 = True,\n",
       " PRI4024 = True,\n",
       " PRI4036 = True,\n",
       " PRI4028 = True,\n",
       " PRI4033 = True,\n",
       " PRI4040 = True,\n",
       " PRI4048 = True]"
      ],
      "text/plain": [
       "[RGC0005 == True,\n",
       " RGC1033 == True,\n",
       " RGC0018 == True,\n",
       " RGC0003 == True,\n",
       " RGC1050 == True,\n",
       " RGC1034 == True,\n",
       " RGC1060 == True,\n",
       " RGC0017 == True,\n",
       " RGC1006 == True,\n",
       " RGC1074 == True,\n",
       " SSC2003 == True,\n",
       " EGC7026 == True,\n",
       " EGC2103 == True,\n",
       " GCR7001 == True,\n",
       " EGC7098 == True,\n",
       " GCR2003 == True,\n",
       " EGC3052 == True,\n",
       " EGC3050 == True,\n",
       " DEV1068 == True,\n",
       " EGC2110 == True,\n",
       " EGC3063 == True,\n",
       " CSE2025 == True,\n",
       " CSE4043 == True,\n",
       " CSE2026 == True,\n",
       " CSE4036 == True,\n",
       " CSE4074 == True,\n",
       " CSE2022 == True,\n",
       " CSE2028 == True,\n",
       " DES == True,\n",
       " DES == True,\n",
       " DES3659 == True,\n",
       " CSE2017 == True,\n",
       " CSE2018 == True,\n",
       " CSE2013 == True,\n",
       " CSE4066 == True,\n",
       " CSE4067 == True,\n",
       " PRI4001 == True,\n",
       " PRI4002 == True,\n",
       " PRI4023 == True,\n",
       " PRI4024 == True,\n",
       " PRI4036 == True,\n",
       " PRI4028 == True,\n",
       " PRI4033 == True,\n",
       " PRI4040 == True,\n",
       " PRI4048 == True]"
      ]
     },
     "execution_count": 14,
     "metadata": {},
     "output_type": "execute_result"
    }
   ],
   "source": [
    "pop_condition(s, CheckMajor)"
   ]
  },
  {
   "cell_type": "code",
   "execution_count": 15,
   "id": "6c1b024e",
   "metadata": {},
   "outputs": [
    {
     "data": {
      "text/html": [
       "[PRI4023 = True,\n",
       " RGC1074 = True,\n",
       " GCR7001 = True,\n",
       " PRI4028 = True,\n",
       " RGC1033 = True,\n",
       " PRI4033 = True,\n",
       " EGC3050 = True,\n",
       " EGC2110 = True,\n",
       " CSE2018 = True,\n",
       " EGC7026 = True,\n",
       " CSE2025 = True,\n",
       " CSE4036 = True,\n",
       " DES = True,\n",
       " CSE2017 = True,\n",
       " CSE4066 = True,\n",
       " EGC2103 = True,\n",
       " RGC0018 = True,\n",
       " CSE4074 = True,\n",
       " EGC3052 = True,\n",
       " SSC2003 = True,\n",
       " PRI4001 = True,\n",
       " PRI4024 = True,\n",
       " PRI4036 = True,\n",
       " CSE2028 = True,\n",
       " CSE4067 = True,\n",
       " RGC1006 = True,\n",
       " PRI4040 = True,\n",
       " RGC0003 = True,\n",
       " CSE2022 = True,\n",
       " RGC0005 = True,\n",
       " CSE4043 = True,\n",
       " GCR2003 = True,\n",
       " CSE2013 = True,\n",
       " RGC1060 = True,\n",
       " CSE2026 = True,\n",
       " EGC7098 = True,\n",
       " DES3659 = True,\n",
       " PRI4048 = True,\n",
       " RGC1050 = True,\n",
       " RGC0017 = True,\n",
       " RGC1034 = True,\n",
       " PRI4002 = True,\n",
       " EGC3063 = True,\n",
       " DEV1068 = True]"
      ],
      "text/plain": [
       "[PRI4023 = True,\n",
       " RGC1074 = True,\n",
       " GCR7001 = True,\n",
       " PRI4028 = True,\n",
       " RGC1033 = True,\n",
       " PRI4033 = True,\n",
       " EGC3050 = True,\n",
       " EGC2110 = True,\n",
       " CSE2018 = True,\n",
       " EGC7026 = True,\n",
       " CSE2025 = True,\n",
       " CSE4036 = True,\n",
       " DES = True,\n",
       " CSE2017 = True,\n",
       " CSE4066 = True,\n",
       " EGC2103 = True,\n",
       " RGC0018 = True,\n",
       " CSE4074 = True,\n",
       " EGC3052 = True,\n",
       " SSC2003 = True,\n",
       " PRI4001 = True,\n",
       " PRI4024 = True,\n",
       " PRI4036 = True,\n",
       " CSE2028 = True,\n",
       " CSE4067 = True,\n",
       " RGC1006 = True,\n",
       " PRI4040 = True,\n",
       " RGC0003 = True,\n",
       " CSE2022 = True,\n",
       " RGC0005 = True,\n",
       " CSE4043 = True,\n",
       " GCR2003 = True,\n",
       " CSE2013 = True,\n",
       " RGC1060 = True,\n",
       " CSE2026 = True,\n",
       " EGC7098 = True,\n",
       " DES3659 = True,\n",
       " PRI4048 = True,\n",
       " RGC1050 = True,\n",
       " RGC0017 = True,\n",
       " RGC1034 = True,\n",
       " PRI4002 = True,\n",
       " EGC3063 = True,\n",
       " DEV1068 = True]"
      ]
     },
     "execution_count": 15,
     "metadata": {},
     "output_type": "execute_result"
    }
   ],
   "source": [
    "s.model()"
   ]
  },
  {
   "cell_type": "code",
   "execution_count": 17,
   "id": "f43840c8",
   "metadata": {},
   "outputs": [
    {
     "ename": "KeyError",
     "evalue": "'CSE2000'",
     "output_type": "error",
     "traceback": [
      "\u001b[1;31m---------------------------------------------------------------------------\u001b[0m",
      "\u001b[1;31mKeyError\u001b[0m                                  Traceback (most recent call last)",
      "\u001b[1;32m~\\AppData\\Local\\Temp\\ipykernel_1088\\243732809.py\u001b[0m in \u001b[0;36m<module>\u001b[1;34m\u001b[0m\n\u001b[0;32m      8\u001b[0m \u001b[1;33m\u001b[0m\u001b[0m\n\u001b[0;32m      9\u001b[0m \u001b[1;31m# CSE2016, CSE2017, CSE2018 중 적어도 하나 이상을 이수해야 한다.\u001b[0m\u001b[1;33m\u001b[0m\u001b[1;33m\u001b[0m\u001b[0m\n\u001b[1;32m---> 10\u001b[1;33m \u001b[0mCSE2016_or_CSE2017_or_CSE2018\u001b[0m \u001b[1;33m=\u001b[0m \u001b[0mz3\u001b[0m\u001b[1;33m.\u001b[0m\u001b[0mOr\u001b[0m\u001b[1;33m(\u001b[0m\u001b[0mbool_vars\u001b[0m\u001b[1;33m[\u001b[0m\u001b[1;34m'CSE2000'\u001b[0m\u001b[1;33m]\u001b[0m\u001b[1;33m,\u001b[0m \u001b[0mbool_vars\u001b[0m\u001b[1;33m[\u001b[0m\u001b[1;34m'CSE2011'\u001b[0m\u001b[1;33m]\u001b[0m\u001b[1;33m,\u001b[0m \u001b[0mbool_vars\u001b[0m\u001b[1;33m[\u001b[0m\u001b[1;34m'CSE2010'\u001b[0m\u001b[1;33m]\u001b[0m\u001b[1;33m)\u001b[0m\u001b[1;33m\u001b[0m\u001b[1;33m\u001b[0m\u001b[0m\n\u001b[0m\u001b[0;32m     11\u001b[0m \u001b[0mconditions\u001b[0m\u001b[1;33m.\u001b[0m\u001b[0mappend\u001b[0m\u001b[1;33m(\u001b[0m\u001b[0mCSE2016_or_CSE2017_or_CSE2018\u001b[0m\u001b[1;33m)\u001b[0m\u001b[1;33m\u001b[0m\u001b[1;33m\u001b[0m\u001b[0m\n\u001b[0;32m     12\u001b[0m \u001b[1;33m\u001b[0m\u001b[0m\n",
      "\u001b[1;31mKeyError\u001b[0m: 'CSE2000'"
     ]
    }
   ],
   "source": [
    "conditions = []\n",
    "bool_vars = {}\n",
    "\n",
    "# 각 과목에 해당하는 불 변수 생성\n",
    "for subject_code in major_subjects_2020.keys():\n",
    "    bool_vars[subject_code] = z3.Bool(subject_code)\n",
    "\n",
    "\n",
    "# CSE2016, CSE2017, CSE2018 중 적어도 하나 이상을 이수해야 한다.\n",
    "CSE2016_or_CSE2017_or_CSE2018 = z3.Or(bool_vars['CSE2000'], bool_vars['CSE2011'], bool_vars['CSE2010'])\n",
    "conditions.append(CSE2016_or_CSE2017_or_CSE2018)\n",
    "\n",
    "# 이수해야 하는 전공 과목 조건 리스트\n",
    "CheckMajor = conditions"
   ]
  },
  {
   "cell_type": "code",
   "execution_count": 18,
   "id": "ec6dbee8",
   "metadata": {},
   "outputs": [
    {
     "data": {
      "text/plain": [
       "[]"
      ]
     },
     "execution_count": 18,
     "metadata": {},
     "output_type": "execute_result"
    }
   ],
   "source": [
    "CheckMajor"
   ]
  },
  {
   "cell_type": "code",
   "execution_count": 69,
   "id": "64814ecc",
   "metadata": {},
   "outputs": [],
   "source": [
    "# import z3\n",
    "\n",
    "# # major_subjects_2020 딕셔너리에서 key값(과목 코드)만 추출하여 리스트로 저장\n",
    "# major_subjects_1 = {'CSE2016': '창의적공학설계'}\n",
    "# subject_codes = list(major_subjects_1.keys())\n",
    "\n",
    "\n",
    "# # bool 변수를 담을 딕셔너리 생성\n",
    "# bool_vars = {}\n",
    "# for code in subject_codes:\n",
    "#     bool_vars[code] = z3.Bool(code)\n",
    "    \n",
    "\n",
    "basic_list = subject_codes\n",
    "c = Solver()\n",
    "bool_vars = {}\n",
    "for subject in basic_list:\n",
    "    bool_vars[subject] = Bool(subject)\n",
    "    c.add(Or(bool_vars[subject]))\n",
    "        "
   ]
  },
  {
   "cell_type": "code",
   "execution_count": 66,
   "id": "6c73c656",
   "metadata": {},
   "outputs": [],
   "source": [
    "s.reset()"
   ]
  },
  {
   "cell_type": "code",
   "execution_count": 70,
   "id": "cc7447a8",
   "metadata": {},
   "outputs": [
    {
     "data": {
      "text/html": [
       "[CSE2016]"
      ],
      "text/plain": [
       "[Or(CSE2016)]"
      ]
     },
     "execution_count": 70,
     "metadata": {},
     "output_type": "execute_result"
    }
   ],
   "source": [
    "c"
   ]
  },
  {
   "cell_type": "code",
   "execution_count": 71,
   "id": "c6e529c5",
   "metadata": {},
   "outputs": [
    {
     "name": "stdout",
     "output_type": "stream",
     "text": [
      "[RGC0005 == True,\n",
      " RGC1033 == True,\n",
      " RGC0018 == True,\n",
      " RGC0003 == True,\n",
      " RGC1050 == True,\n",
      " RGC1034 == True,\n",
      " RGC1060 == True,\n",
      " RGC0017 == True,\n",
      " RGC1006 == True,\n",
      " RGC1074 == True,\n",
      " SSC2003 == True,\n",
      " EGC7026 == True,\n",
      " EGC2103 == True,\n",
      " GCR7001 == True,\n",
      " EGC7098 == True,\n",
      " GCR2003 == True,\n",
      " EGC3052 == True,\n",
      " EGC3050 == True,\n",
      " DEV1068 == True,\n",
      " EGC2110 == True,\n",
      " EGC3063 == True,\n",
      " CSE2025 == True,\n",
      " CSE4043 == True,\n",
      " CSE2026 == True,\n",
      " CSE4036 == True,\n",
      " CSE4074 == True,\n",
      " CSE2022 == True,\n",
      " CSE2028 == True,\n",
      " DES == True,\n",
      " DES == True,\n",
      " DES3659 == True,\n",
      " CSE2017 == True,\n",
      " CSE2018 == True,\n",
      " CSE2013 == True,\n",
      " CSE4066 == True,\n",
      " CSE4067 == True,\n",
      " PRI4001 == True,\n",
      " PRI4002 == True,\n",
      " PRI4023 == True,\n",
      " PRI4024 == True,\n",
      " PRI4036 == True,\n",
      " PRI4028 == True,\n",
      " PRI4033 == True,\n",
      " PRI4040 == True,\n",
      " PRI4048 == True]\n"
     ]
    }
   ],
   "source": [
    "\n",
    "# 모든 조건이 만족되는지 체크하는 Solver 객체 생성\n",
    "s = z3.Solver()\n",
    "s = make_conditions(pd.read_excel(\"./samples/data0입학2018이수8학기.xlsx\"))\n",
    "print(s)\n"
   ]
  },
  {
   "cell_type": "code",
   "execution_count": 74,
   "id": "4f66b9cf",
   "metadata": {
    "scrolled": false
   },
   "outputs": [
    {
     "ename": "Z3Exception",
     "evalue": "True, False or Z3 Boolean expression expected. Received [RGC0005 == True,\n RGC1033 == True,\n RGC0018 == True,\n RGC0003 == True,\n RGC1050 == True,\n RGC1034 == True,\n RGC1060 == True,\n RGC0017 == True,\n RGC1006 == True,\n RGC1074 == True,\n SSC2003 == True,\n EGC7026 == True,\n EGC2103 == True,\n GCR7001 == True,\n EGC7098 == True,\n GCR2003 == True,\n EGC3052 == True,\n EGC3050 == True,\n DEV1068 == True,\n EGC2110 == True,\n EGC3063 == True,\n CSE2025 == True,\n CSE4043 == True,\n CSE2026 == True,\n CSE4036 == True,\n CSE4074 == True,\n CSE2022 == True,\n CSE2028 == True,\n DES == True,\n DES == True,\n DES3659 == True,\n CSE2017 == True,\n CSE2018 == True,\n CSE2013 == True,\n CSE4066 == True,\n CSE4067 == True,\n PRI4001 == True,\n PRI4002 == True,\n PRI4023 == True,\n PRI4024 == True,\n PRI4036 == True,\n PRI4028 == True,\n PRI4033 == True,\n PRI4040 == True,\n PRI4048 == True] of type <class 'z3.z3.Solver'>",
     "output_type": "error",
     "traceback": [
      "\u001b[1;31m---------------------------------------------------------------------------\u001b[0m",
      "\u001b[1;31mZ3Exception\u001b[0m                               Traceback (most recent call last)",
      "\u001b[1;32m~\\AppData\\Local\\Temp\\ipykernel_1088\\2757626817.py\u001b[0m in \u001b[0;36m<module>\u001b[1;34m\u001b[0m\n\u001b[1;32m----> 1\u001b[1;33m \u001b[0msolve\u001b[0m\u001b[1;33m(\u001b[0m\u001b[0ms\u001b[0m\u001b[1;33m,\u001b[0m \u001b[0mc\u001b[0m\u001b[1;33m)\u001b[0m\u001b[1;33m\u001b[0m\u001b[1;33m\u001b[0m\u001b[0m\n\u001b[0m\u001b[0;32m      2\u001b[0m \u001b[0ms\u001b[0m\u001b[1;33m\u001b[0m\u001b[1;33m\u001b[0m\u001b[0m\n",
      "\u001b[1;32m~\\anaconda3\\lib\\site-packages\\z3\\z3.py\u001b[0m in \u001b[0;36msolve\u001b[1;34m(*args, **keywords)\u001b[0m\n\u001b[0;32m   9045\u001b[0m     \u001b[0ms\u001b[0m \u001b[1;33m=\u001b[0m \u001b[0mSolver\u001b[0m\u001b[1;33m(\u001b[0m\u001b[1;33m)\u001b[0m\u001b[1;33m\u001b[0m\u001b[1;33m\u001b[0m\u001b[0m\n\u001b[0;32m   9046\u001b[0m     \u001b[0ms\u001b[0m\u001b[1;33m.\u001b[0m\u001b[0mset\u001b[0m\u001b[1;33m(\u001b[0m\u001b[1;33m**\u001b[0m\u001b[0mkeywords\u001b[0m\u001b[1;33m)\u001b[0m\u001b[1;33m\u001b[0m\u001b[1;33m\u001b[0m\u001b[0m\n\u001b[1;32m-> 9047\u001b[1;33m     \u001b[0ms\u001b[0m\u001b[1;33m.\u001b[0m\u001b[0madd\u001b[0m\u001b[1;33m(\u001b[0m\u001b[1;33m*\u001b[0m\u001b[0margs\u001b[0m\u001b[1;33m)\u001b[0m\u001b[1;33m\u001b[0m\u001b[1;33m\u001b[0m\u001b[0m\n\u001b[0m\u001b[0;32m   9048\u001b[0m     \u001b[1;32mif\u001b[0m \u001b[0mshow\u001b[0m\u001b[1;33m:\u001b[0m\u001b[1;33m\u001b[0m\u001b[1;33m\u001b[0m\u001b[0m\n\u001b[0;32m   9049\u001b[0m         \u001b[0mprint\u001b[0m\u001b[1;33m(\u001b[0m\u001b[0ms\u001b[0m\u001b[1;33m)\u001b[0m\u001b[1;33m\u001b[0m\u001b[1;33m\u001b[0m\u001b[0m\n",
      "\u001b[1;32m~\\anaconda3\\lib\\site-packages\\z3\\z3.py\u001b[0m in \u001b[0;36madd\u001b[1;34m(self, *args)\u001b[0m\n\u001b[0;32m   7035\u001b[0m         \u001b[1;33m[\u001b[0m\u001b[0mx\u001b[0m \u001b[1;33m>\u001b[0m \u001b[1;36m0\u001b[0m\u001b[1;33m,\u001b[0m \u001b[0mx\u001b[0m \u001b[1;33m<\u001b[0m \u001b[1;36m2\u001b[0m\u001b[1;33m]\u001b[0m\u001b[1;33m\u001b[0m\u001b[1;33m\u001b[0m\u001b[0m\n\u001b[0;32m   7036\u001b[0m         \"\"\"\n\u001b[1;32m-> 7037\u001b[1;33m         \u001b[0mself\u001b[0m\u001b[1;33m.\u001b[0m\u001b[0massert_exprs\u001b[0m\u001b[1;33m(\u001b[0m\u001b[1;33m*\u001b[0m\u001b[0margs\u001b[0m\u001b[1;33m)\u001b[0m\u001b[1;33m\u001b[0m\u001b[1;33m\u001b[0m\u001b[0m\n\u001b[0m\u001b[0;32m   7038\u001b[0m \u001b[1;33m\u001b[0m\u001b[0m\n\u001b[0;32m   7039\u001b[0m     \u001b[1;32mdef\u001b[0m \u001b[0m__iadd__\u001b[0m\u001b[1;33m(\u001b[0m\u001b[0mself\u001b[0m\u001b[1;33m,\u001b[0m \u001b[0mfml\u001b[0m\u001b[1;33m)\u001b[0m\u001b[1;33m:\u001b[0m\u001b[1;33m\u001b[0m\u001b[1;33m\u001b[0m\u001b[0m\n",
      "\u001b[1;32m~\\anaconda3\\lib\\site-packages\\z3\\z3.py\u001b[0m in \u001b[0;36massert_exprs\u001b[1;34m(self, *args)\u001b[0m\n\u001b[0;32m   7023\u001b[0m                     \u001b[0mZ3_solver_assert\u001b[0m\u001b[1;33m(\u001b[0m\u001b[0mself\u001b[0m\u001b[1;33m.\u001b[0m\u001b[0mctx\u001b[0m\u001b[1;33m.\u001b[0m\u001b[0mref\u001b[0m\u001b[1;33m(\u001b[0m\u001b[1;33m)\u001b[0m\u001b[1;33m,\u001b[0m \u001b[0mself\u001b[0m\u001b[1;33m.\u001b[0m\u001b[0msolver\u001b[0m\u001b[1;33m,\u001b[0m \u001b[0mf\u001b[0m\u001b[1;33m.\u001b[0m\u001b[0mas_ast\u001b[0m\u001b[1;33m(\u001b[0m\u001b[1;33m)\u001b[0m\u001b[1;33m)\u001b[0m\u001b[1;33m\u001b[0m\u001b[1;33m\u001b[0m\u001b[0m\n\u001b[0;32m   7024\u001b[0m             \u001b[1;32melse\u001b[0m\u001b[1;33m:\u001b[0m\u001b[1;33m\u001b[0m\u001b[1;33m\u001b[0m\u001b[0m\n\u001b[1;32m-> 7025\u001b[1;33m                 \u001b[0marg\u001b[0m \u001b[1;33m=\u001b[0m \u001b[0ms\u001b[0m\u001b[1;33m.\u001b[0m\u001b[0mcast\u001b[0m\u001b[1;33m(\u001b[0m\u001b[0marg\u001b[0m\u001b[1;33m)\u001b[0m\u001b[1;33m\u001b[0m\u001b[1;33m\u001b[0m\u001b[0m\n\u001b[0m\u001b[0;32m   7026\u001b[0m                 \u001b[0mZ3_solver_assert\u001b[0m\u001b[1;33m(\u001b[0m\u001b[0mself\u001b[0m\u001b[1;33m.\u001b[0m\u001b[0mctx\u001b[0m\u001b[1;33m.\u001b[0m\u001b[0mref\u001b[0m\u001b[1;33m(\u001b[0m\u001b[1;33m)\u001b[0m\u001b[1;33m,\u001b[0m \u001b[0mself\u001b[0m\u001b[1;33m.\u001b[0m\u001b[0msolver\u001b[0m\u001b[1;33m,\u001b[0m \u001b[0marg\u001b[0m\u001b[1;33m.\u001b[0m\u001b[0mas_ast\u001b[0m\u001b[1;33m(\u001b[0m\u001b[1;33m)\u001b[0m\u001b[1;33m)\u001b[0m\u001b[1;33m\u001b[0m\u001b[1;33m\u001b[0m\u001b[0m\n\u001b[0;32m   7027\u001b[0m \u001b[1;33m\u001b[0m\u001b[0m\n",
      "\u001b[1;32m~\\anaconda3\\lib\\site-packages\\z3\\z3.py\u001b[0m in \u001b[0;36mcast\u001b[1;34m(self, val)\u001b[0m\n\u001b[0;32m   1533\u001b[0m             \u001b[1;32mif\u001b[0m \u001b[1;32mnot\u001b[0m \u001b[0mis_expr\u001b[0m\u001b[1;33m(\u001b[0m\u001b[0mval\u001b[0m\u001b[1;33m)\u001b[0m\u001b[1;33m:\u001b[0m\u001b[1;33m\u001b[0m\u001b[1;33m\u001b[0m\u001b[0m\n\u001b[0;32m   1534\u001b[0m                 \u001b[0mmsg\u001b[0m \u001b[1;33m=\u001b[0m \u001b[1;34m\"True, False or Z3 Boolean expression expected. Received %s of type %s\"\u001b[0m\u001b[1;33m\u001b[0m\u001b[1;33m\u001b[0m\u001b[0m\n\u001b[1;32m-> 1535\u001b[1;33m                 \u001b[0m_z3_assert\u001b[0m\u001b[1;33m(\u001b[0m\u001b[0mis_expr\u001b[0m\u001b[1;33m(\u001b[0m\u001b[0mval\u001b[0m\u001b[1;33m)\u001b[0m\u001b[1;33m,\u001b[0m \u001b[0mmsg\u001b[0m \u001b[1;33m%\u001b[0m \u001b[1;33m(\u001b[0m\u001b[0mval\u001b[0m\u001b[1;33m,\u001b[0m \u001b[0mtype\u001b[0m\u001b[1;33m(\u001b[0m\u001b[0mval\u001b[0m\u001b[1;33m)\u001b[0m\u001b[1;33m)\u001b[0m\u001b[1;33m)\u001b[0m\u001b[1;33m\u001b[0m\u001b[1;33m\u001b[0m\u001b[0m\n\u001b[0m\u001b[0;32m   1536\u001b[0m             \u001b[1;32mif\u001b[0m \u001b[1;32mnot\u001b[0m \u001b[0mself\u001b[0m\u001b[1;33m.\u001b[0m\u001b[0meq\u001b[0m\u001b[1;33m(\u001b[0m\u001b[0mval\u001b[0m\u001b[1;33m.\u001b[0m\u001b[0msort\u001b[0m\u001b[1;33m(\u001b[0m\u001b[1;33m)\u001b[0m\u001b[1;33m)\u001b[0m\u001b[1;33m:\u001b[0m\u001b[1;33m\u001b[0m\u001b[1;33m\u001b[0m\u001b[0m\n\u001b[0;32m   1537\u001b[0m                 \u001b[0m_z3_assert\u001b[0m\u001b[1;33m(\u001b[0m\u001b[0mself\u001b[0m\u001b[1;33m.\u001b[0m\u001b[0meq\u001b[0m\u001b[1;33m(\u001b[0m\u001b[0mval\u001b[0m\u001b[1;33m.\u001b[0m\u001b[0msort\u001b[0m\u001b[1;33m(\u001b[0m\u001b[1;33m)\u001b[0m\u001b[1;33m)\u001b[0m\u001b[1;33m,\u001b[0m \u001b[1;34m\"Value cannot be converted into a Z3 Boolean value\"\u001b[0m\u001b[1;33m)\u001b[0m\u001b[1;33m\u001b[0m\u001b[1;33m\u001b[0m\u001b[0m\n",
      "\u001b[1;32m~\\anaconda3\\lib\\site-packages\\z3\\z3.py\u001b[0m in \u001b[0;36m_z3_assert\u001b[1;34m(cond, msg)\u001b[0m\n\u001b[0;32m    105\u001b[0m \u001b[1;32mdef\u001b[0m \u001b[0m_z3_assert\u001b[0m\u001b[1;33m(\u001b[0m\u001b[0mcond\u001b[0m\u001b[1;33m,\u001b[0m \u001b[0mmsg\u001b[0m\u001b[1;33m)\u001b[0m\u001b[1;33m:\u001b[0m\u001b[1;33m\u001b[0m\u001b[1;33m\u001b[0m\u001b[0m\n\u001b[0;32m    106\u001b[0m     \u001b[1;32mif\u001b[0m \u001b[1;32mnot\u001b[0m \u001b[0mcond\u001b[0m\u001b[1;33m:\u001b[0m\u001b[1;33m\u001b[0m\u001b[1;33m\u001b[0m\u001b[0m\n\u001b[1;32m--> 107\u001b[1;33m         \u001b[1;32mraise\u001b[0m \u001b[0mZ3Exception\u001b[0m\u001b[1;33m(\u001b[0m\u001b[0mmsg\u001b[0m\u001b[1;33m)\u001b[0m\u001b[1;33m\u001b[0m\u001b[1;33m\u001b[0m\u001b[0m\n\u001b[0m\u001b[0;32m    108\u001b[0m \u001b[1;33m\u001b[0m\u001b[0m\n\u001b[0;32m    109\u001b[0m \u001b[1;33m\u001b[0m\u001b[0m\n",
      "\u001b[1;31mZ3Exception\u001b[0m: True, False or Z3 Boolean expression expected. Received [RGC0005 == True,\n RGC1033 == True,\n RGC0018 == True,\n RGC0003 == True,\n RGC1050 == True,\n RGC1034 == True,\n RGC1060 == True,\n RGC0017 == True,\n RGC1006 == True,\n RGC1074 == True,\n SSC2003 == True,\n EGC7026 == True,\n EGC2103 == True,\n GCR7001 == True,\n EGC7098 == True,\n GCR2003 == True,\n EGC3052 == True,\n EGC3050 == True,\n DEV1068 == True,\n EGC2110 == True,\n EGC3063 == True,\n CSE2025 == True,\n CSE4043 == True,\n CSE2026 == True,\n CSE4036 == True,\n CSE4074 == True,\n CSE2022 == True,\n CSE2028 == True,\n DES == True,\n DES == True,\n DES3659 == True,\n CSE2017 == True,\n CSE2018 == True,\n CSE2013 == True,\n CSE4066 == True,\n CSE4067 == True,\n PRI4001 == True,\n PRI4002 == True,\n PRI4023 == True,\n PRI4024 == True,\n PRI4036 == True,\n PRI4028 == True,\n PRI4033 == True,\n PRI4040 == True,\n PRI4048 == True] of type <class 'z3.z3.Solver'>"
     ]
    }
   ],
   "source": [
    "solve(s, c)\n",
    "s\n"
   ]
  },
  {
   "cell_type": "code",
   "execution_count": 55,
   "id": "7b2e54f9",
   "metadata": {},
   "outputs": [],
   "source": [
    "s.reset()"
   ]
  },
  {
   "cell_type": "code",
   "execution_count": 85,
   "id": "3f51a590",
   "metadata": {},
   "outputs": [
    {
     "ename": "Z3Exception",
     "evalue": "b'Sort mismatch at argument #1 for function (declare-fun or (Bool Bool) Bool) supplied sort is String'",
     "output_type": "error",
     "traceback": [
      "\u001b[1;31m---------------------------------------------------------------------------\u001b[0m",
      "\u001b[1;31mZ3Exception\u001b[0m                               Traceback (most recent call last)",
      "\u001b[1;32m~\\AppData\\Local\\Temp\\ipykernel_1088\\1351346358.py\u001b[0m in \u001b[0;36m<module>\u001b[1;34m\u001b[0m\n\u001b[0;32m      3\u001b[0m \u001b[0ms\u001b[0m \u001b[1;33m=\u001b[0m \u001b[1;33m[\u001b[0m\u001b[1;34m'CSE2016'\u001b[0m \u001b[1;33m==\u001b[0m \u001b[1;32mTrue\u001b[0m\u001b[1;33m]\u001b[0m\u001b[1;33m\u001b[0m\u001b[1;33m\u001b[0m\u001b[0m\n\u001b[0;32m      4\u001b[0m \u001b[1;31m# 필요한 조건들\u001b[0m\u001b[1;33m\u001b[0m\u001b[1;33m\u001b[0m\u001b[0m\n\u001b[1;32m----> 5\u001b[1;33m \u001b[0mconditions\u001b[0m \u001b[1;33m=\u001b[0m\u001b[1;33m[\u001b[0m\u001b[0mOr\u001b[0m\u001b[1;33m(\u001b[0m\u001b[1;34m'CSE2025'\u001b[0m\u001b[1;33m)\u001b[0m\u001b[1;33m]\u001b[0m\u001b[1;33m\u001b[0m\u001b[1;33m\u001b[0m\u001b[0m\n\u001b[0m\u001b[0;32m      6\u001b[0m \u001b[1;33m\u001b[0m\u001b[0m\n\u001b[0;32m      7\u001b[0m \u001b[1;31m# 모든 조건이 True인지 평가\u001b[0m\u001b[1;33m\u001b[0m\u001b[1;33m\u001b[0m\u001b[0m\n",
      "\u001b[1;32m~\\anaconda3\\lib\\site-packages\\z3\\z3.py\u001b[0m in \u001b[0;36mOr\u001b[1;34m(*args)\u001b[0m\n\u001b[0;32m   1910\u001b[0m         \u001b[0margs\u001b[0m \u001b[1;33m=\u001b[0m \u001b[0m_coerce_expr_list\u001b[0m\u001b[1;33m(\u001b[0m\u001b[0margs\u001b[0m\u001b[1;33m,\u001b[0m \u001b[0mctx\u001b[0m\u001b[1;33m)\u001b[0m\u001b[1;33m\u001b[0m\u001b[1;33m\u001b[0m\u001b[0m\n\u001b[0;32m   1911\u001b[0m         \u001b[0m_args\u001b[0m\u001b[1;33m,\u001b[0m \u001b[0msz\u001b[0m \u001b[1;33m=\u001b[0m \u001b[0m_to_ast_array\u001b[0m\u001b[1;33m(\u001b[0m\u001b[0margs\u001b[0m\u001b[1;33m)\u001b[0m\u001b[1;33m\u001b[0m\u001b[1;33m\u001b[0m\u001b[0m\n\u001b[1;32m-> 1912\u001b[1;33m         \u001b[1;32mreturn\u001b[0m \u001b[0mBoolRef\u001b[0m\u001b[1;33m(\u001b[0m\u001b[0mZ3_mk_or\u001b[0m\u001b[1;33m(\u001b[0m\u001b[0mctx\u001b[0m\u001b[1;33m.\u001b[0m\u001b[0mref\u001b[0m\u001b[1;33m(\u001b[0m\u001b[1;33m)\u001b[0m\u001b[1;33m,\u001b[0m \u001b[0msz\u001b[0m\u001b[1;33m,\u001b[0m \u001b[0m_args\u001b[0m\u001b[1;33m)\u001b[0m\u001b[1;33m,\u001b[0m \u001b[0mctx\u001b[0m\u001b[1;33m)\u001b[0m\u001b[1;33m\u001b[0m\u001b[1;33m\u001b[0m\u001b[0m\n\u001b[0m\u001b[0;32m   1913\u001b[0m \u001b[1;33m\u001b[0m\u001b[0m\n\u001b[0;32m   1914\u001b[0m \u001b[1;31m#########################################\u001b[0m\u001b[1;33m\u001b[0m\u001b[1;33m\u001b[0m\u001b[0m\n",
      "\u001b[1;32m~\\anaconda3\\lib\\site-packages\\z3\\z3core.py\u001b[0m in \u001b[0;36mZ3_mk_or\u001b[1;34m(a0, a1, a2, _elems)\u001b[0m\n\u001b[0;32m   1842\u001b[0m \u001b[1;32mdef\u001b[0m \u001b[0mZ3_mk_or\u001b[0m\u001b[1;33m(\u001b[0m\u001b[0ma0\u001b[0m\u001b[1;33m,\u001b[0m \u001b[0ma1\u001b[0m\u001b[1;33m,\u001b[0m \u001b[0ma2\u001b[0m\u001b[1;33m,\u001b[0m \u001b[0m_elems\u001b[0m\u001b[1;33m=\u001b[0m\u001b[0mElementaries\u001b[0m\u001b[1;33m(\u001b[0m\u001b[0m_lib\u001b[0m\u001b[1;33m.\u001b[0m\u001b[0mZ3_mk_or\u001b[0m\u001b[1;33m)\u001b[0m\u001b[1;33m)\u001b[0m\u001b[1;33m:\u001b[0m\u001b[1;33m\u001b[0m\u001b[1;33m\u001b[0m\u001b[0m\n\u001b[0;32m   1843\u001b[0m   \u001b[0mr\u001b[0m \u001b[1;33m=\u001b[0m \u001b[0m_elems\u001b[0m\u001b[1;33m.\u001b[0m\u001b[0mf\u001b[0m\u001b[1;33m(\u001b[0m\u001b[0ma0\u001b[0m\u001b[1;33m,\u001b[0m \u001b[0ma1\u001b[0m\u001b[1;33m,\u001b[0m \u001b[0ma2\u001b[0m\u001b[1;33m)\u001b[0m\u001b[1;33m\u001b[0m\u001b[1;33m\u001b[0m\u001b[0m\n\u001b[1;32m-> 1844\u001b[1;33m   \u001b[0m_elems\u001b[0m\u001b[1;33m.\u001b[0m\u001b[0mCheck\u001b[0m\u001b[1;33m(\u001b[0m\u001b[0ma0\u001b[0m\u001b[1;33m)\u001b[0m\u001b[1;33m\u001b[0m\u001b[1;33m\u001b[0m\u001b[0m\n\u001b[0m\u001b[0;32m   1845\u001b[0m   \u001b[1;32mreturn\u001b[0m \u001b[0mr\u001b[0m\u001b[1;33m\u001b[0m\u001b[1;33m\u001b[0m\u001b[0m\n\u001b[0;32m   1846\u001b[0m \u001b[1;33m\u001b[0m\u001b[0m\n",
      "\u001b[1;32m~\\anaconda3\\lib\\site-packages\\z3\\z3core.py\u001b[0m in \u001b[0;36mCheck\u001b[1;34m(self, ctx)\u001b[0m\n\u001b[0;32m   1480\u001b[0m     \u001b[0merr\u001b[0m \u001b[1;33m=\u001b[0m \u001b[0mself\u001b[0m\u001b[1;33m.\u001b[0m\u001b[0mget_error_code\u001b[0m\u001b[1;33m(\u001b[0m\u001b[0mctx\u001b[0m\u001b[1;33m)\u001b[0m\u001b[1;33m\u001b[0m\u001b[1;33m\u001b[0m\u001b[0m\n\u001b[0;32m   1481\u001b[0m     \u001b[1;32mif\u001b[0m \u001b[0merr\u001b[0m \u001b[1;33m!=\u001b[0m \u001b[0mself\u001b[0m\u001b[1;33m.\u001b[0m\u001b[0mOK\u001b[0m\u001b[1;33m:\u001b[0m\u001b[1;33m\u001b[0m\u001b[1;33m\u001b[0m\u001b[0m\n\u001b[1;32m-> 1482\u001b[1;33m         \u001b[1;32mraise\u001b[0m \u001b[0mself\u001b[0m\u001b[1;33m.\u001b[0m\u001b[0mException\u001b[0m\u001b[1;33m(\u001b[0m\u001b[0mself\u001b[0m\u001b[1;33m.\u001b[0m\u001b[0mget_error_message\u001b[0m\u001b[1;33m(\u001b[0m\u001b[0mctx\u001b[0m\u001b[1;33m,\u001b[0m \u001b[0merr\u001b[0m\u001b[1;33m)\u001b[0m\u001b[1;33m)\u001b[0m\u001b[1;33m\u001b[0m\u001b[1;33m\u001b[0m\u001b[0m\n\u001b[0m\u001b[0;32m   1483\u001b[0m \u001b[1;33m\u001b[0m\u001b[0m\n\u001b[0;32m   1484\u001b[0m \u001b[1;32mdef\u001b[0m \u001b[0mZ3_set_error_handler\u001b[0m\u001b[1;33m(\u001b[0m\u001b[0mctx\u001b[0m\u001b[1;33m,\u001b[0m \u001b[0mhndlr\u001b[0m\u001b[1;33m,\u001b[0m \u001b[0m_elems\u001b[0m\u001b[1;33m=\u001b[0m\u001b[0mElementaries\u001b[0m\u001b[1;33m(\u001b[0m\u001b[0m_lib\u001b[0m\u001b[1;33m.\u001b[0m\u001b[0mZ3_set_error_handler\u001b[0m\u001b[1;33m)\u001b[0m\u001b[1;33m)\u001b[0m\u001b[1;33m:\u001b[0m\u001b[1;33m\u001b[0m\u001b[1;33m\u001b[0m\u001b[0m\n",
      "\u001b[1;31mZ3Exception\u001b[0m: b'Sort mismatch at argument #1 for function (declare-fun or (Bool Bool) Bool) supplied sort is String'"
     ]
    }
   ],
   "source": [
    "\n",
    "bool_vars['CSE2016'] = z3.Bool('CSE2016')\n",
    "bool_vars['CSE2025'] = z3.Bool('CSE2016')\n",
    "s = ['CSE2016' == True]\n",
    "# 필요한 조건들\n",
    "conditions =[Or('CSE2025')]\n",
    "\n",
    "# 모든 조건이 True인지 평가\n",
    "result = solve(s , conditions)\n",
    "print(result)  # True or False\n"
   ]
  },
  {
   "cell_type": "code",
   "execution_count": 86,
   "id": "096a10d4",
   "metadata": {},
   "outputs": [],
   "source": [
    "# Define major subjects and their codes\n",
    "major_subjects_1 = {'CSE2016': '창의적공학설계', 'CSE2017': '객체지향프로그래밍', 'CSE2018': '데이터구조',\n",
    "                   'CSE2022': '시스템프로그래밍', 'CSE2025': '컴퓨터구조', 'CSE2026': '운영체제',\n",
    "                   'CSE2028': '알고리즘', 'CSE4036': '소프트웨어공학', 'CSE4043': '컴퓨터네트워크', \n",
    "                   'CSE4066': '인공지능', 'CSE4067': '데이터마이닝'}\n",
    "major_subjects_2 = {'EGC2110': '공학수학1', 'EGC3050': '시스템프로그래밍실습', 'EGC3052': '데이터베이스', \n",
    "                    'EGC3063': '객체지향프로그래밍실습', 'EGC7026': '캡스톤디자인1', 'EGC7098': '창업기초'}\n",
    "major_subjects_3 = {'DEV1068': '스토리텔링과디자인씽킹', 'PRI4001': '일반물리학1', 'PRI4002': '일반물리학실험1',\n",
    "                    'PRI4023': '전자기학', 'PRI4024': '전자기학실험', 'PRI4033': '통신이론', 'PRI4036': '신호및시스템',\n",
    "                    'PRI4040': '전자회로1', 'PRI4048': '전자회로실험1'}\n",
    "\n",
    "# Create a list of all major subjects\n",
    "major_subjects = {**major_subjects_1, **major_subjects_2, **major_subjects_3}\n",
    "subject_codes = list(major_subjects.keys())\n",
    "\n",
    "# Create boolean variables for each major subject\n",
    "bool_vars = {}\n",
    "for code in subject_codes:\n",
    "    bool_vars[code] = z3.Bool(code)\n",
    "\n",
    "# Define graduation requirements as conditions\n",
    "conditions = [z3.Or(bool_vars[code]) for code in subject_codes]\n"
   ]
  },
  {
   "cell_type": "code",
   "execution_count": 88,
   "id": "fe1362b7",
   "metadata": {},
   "outputs": [
    {
     "name": "stdout",
     "output_type": "stream",
     "text": [
      "And(p, q) == Not(Or(Not(p), Not(q)))\n",
      "Proving demorgan...\n",
      "proved\n"
     ]
    }
   ],
   "source": [
    "p, q = Bools('p q')\n",
    "demorgan = And(p, q) == Not(Or(Not(p), Not(q)))\n",
    "print (demorgan)\n",
    "\n",
    "def prove(f):\n",
    "    s = Solver()\n",
    "    s.add(Not(f))\n",
    "    if s.check() == unsat:\n",
    "        print (\"proved\")\n",
    "    else:\n",
    "        print (\"failed to prove\")\n",
    "\n",
    "print (\"Proving demorgan...\")\n",
    "prove(demorgan)"
   ]
  },
  {
   "cell_type": "code",
   "execution_count": 91,
   "id": "3cbbe570",
   "metadata": {},
   "outputs": [
    {
     "name": "stdout",
     "output_type": "stream",
     "text": [
      "[Tie = True, Shirt = True]\n"
     ]
    }
   ],
   "source": [
    "Tie, Shirt = Bools('Tie Shirt')\n",
    "solve(And(Tie, Shirt))\n"
   ]
  },
  {
   "cell_type": "code",
   "execution_count": 92,
   "id": "6e20ff12",
   "metadata": {},
   "outputs": [
    {
     "name": "stdout",
     "output_type": "stream",
     "text": [
      "And(x0, x1, x2, x3, x4, x5, x6, x7, x8, x9)\n",
      "[x2 = True,\n",
      " x1 = True,\n",
      " x0 = True,\n",
      " x3 = True,\n",
      " x7 = True,\n",
      " x9 = True,\n",
      " x4 = True,\n",
      " x5 = True,\n",
      " x6 = True,\n",
      " x8 = True]\n"
     ]
    }
   ],
   "source": [
    "n = 10\n",
    "x = [Bool('x' + str(k)) for k in range(n)]\n",
    "phi = And([x[k] for k in range(n)])\n",
    "print(phi)\n",
    "\n",
    "solve(phi)"
   ]
  },
  {
   "cell_type": "code",
   "execution_count": 93,
   "id": "7187da7d",
   "metadata": {},
   "outputs": [
    {
     "name": "stdout",
     "output_type": "stream",
     "text": [
      "[(x0, True), (x1, True), (x2, True), (x3, True), (x4, True), (x5, True), (x6, True), (x7, True), (x8, True), (x9, True), (x10, True), (x11, True), (x12, True), (x13, True), (x14, True), (x15, True), (x16, True), (x17, True), (x18, True), (x19, True), (x20, True), (x21, True), (x22, True), (x23, True), (x24, True), (x25, True), (x26, True), (x27, True), (x28, True), (x29, True), (x30, True), (x31, True), (x32, True), (x33, True), (x34, True), (x35, True), (x36, True), (x37, True), (x38, True), (x39, True), (x40, True), (x41, True), (x42, True), (x43, True), (x44, True), (x45, True), (x46, True), (x47, True), (x48, True), (x49, True), (x50, True), (x51, True), (x52, True), (x53, True), (x54, True), (x55, True), (x56, True), (x57, True), (x58, True), (x59, True), (x60, True), (x61, True), (x62, True), (x63, True), (x64, True), (x65, True), (x66, True), (x67, True), (x68, True), (x69, True), (x70, True), (x71, True), (x72, True), (x73, True)]\n"
     ]
    }
   ],
   "source": [
    "# input example\n",
    "S = [\"001010011101\", \"1001010101011\", \"101101010101010\",\n",
    "     \"10111011001010101010\", \"10110101011010101010\", \"10110101101010101010\"]\n",
    "m = len(S)\n",
    "n = 74 # tight?\n",
    "\n",
    "# how to declare a list of n variables x0, ..., x(n-1)\n",
    "x = [ Bool('x' + str(k)) for k in range(n) ]\n",
    "\n",
    "# Solution for S: 001010011101101011010101010100101010101110110010101010101101010110101010100\n",
    "\n",
    "# this procedure returns an assignment (as a dictionary) if any exists\n",
    "def model(phi):\n",
    "    \n",
    "    # create a SAT instance\n",
    "    s = Solver()\n",
    "    s.add(phi)\n",
    "\n",
    "    # return a satisfying assignment\n",
    "    return s.model() if s.check() == sat else []\n",
    "\n",
    "phi = And([x[k] for k in range(n)])\n",
    "solution = model(phi)\n",
    "print([(var, solution[var]) for var in x])"
   ]
  },
  {
   "cell_type": "code",
   "execution_count": null,
   "id": "cd5bb998",
   "metadata": {},
   "outputs": [],
   "source": []
  }
 ],
 "metadata": {
  "kernelspec": {
   "display_name": "Python 3 (ipykernel)",
   "language": "python",
   "name": "python3"
  },
  "language_info": {
   "codemirror_mode": {
    "name": "ipython",
    "version": 3
   },
   "file_extension": ".py",
   "mimetype": "text/x-python",
   "name": "python",
   "nbconvert_exporter": "python",
   "pygments_lexer": "ipython3",
   "version": "3.9.13"
  }
 },
 "nbformat": 4,
 "nbformat_minor": 5
}
